{
 "cells": [
  {
   "cell_type": "code",
   "execution_count": 1,
   "metadata": {},
   "outputs": [],
   "source": [
    "from mmdeploy.apis.utils import build_task_processor\n",
    "from mmdeploy.utils import get_input_shape, load_config\n",
    "import torch\n",
    "from PIL import Image\n",
    "import numpy as np\n",
    "import colorsys\n",
    "from skimage.measure import find_contours\n",
    "from PIL import Image\n",
    "import random\n",
    "\n",
    "\n",
    "deploy_cfg = 'D:/Extensions/openmmlab/mmdeploy/configs/mmdet/instance-seg/instance-seg_rtmdet-ins_onnxruntime_static-640x640.py'\n",
    "model_cfg = 'D:/Extensions/openmmlab/mmdetection/configs/rtmdet/rtmdet-ins_tiny_8xb32-300e_coco.py'\n",
    "device = 'cpu'\n",
    "backend_model = ['./ckpts/end2end.onnx']"
   ]
  },
  {
   "cell_type": "code",
   "execution_count": 2,
   "metadata": {},
   "outputs": [
    {
     "name": "stdout",
     "output_type": "stream",
     "text": [
      "03/28 15:41:48 - mmengine - \u001b[5m\u001b[4m\u001b[33mWARNING\u001b[0m - Failed to search registry with scope \"mmdet\" in the \"Codebases\" registry tree. As a workaround, the current \"Codebases\" registry in \"mmdeploy\" is used to build instance. This may cause unexpected failure when running the built modules. Please check whether \"mmdet\" is a correct scope, or whether the registry is initialized.\n",
      "03/28 15:41:48 - mmengine - \u001b[5m\u001b[4m\u001b[33mWARNING\u001b[0m - Failed to search registry with scope \"mmdet\" in the \"mmdet_tasks\" registry tree. As a workaround, the current \"mmdet_tasks\" registry in \"mmdeploy\" is used to build instance. This may cause unexpected failure when running the built modules. Please check whether \"mmdet\" is a correct scope, or whether the registry is initialized.\n",
      "03/28 15:41:48 - mmengine - \u001b[5m\u001b[4m\u001b[33mWARNING\u001b[0m - Failed to search registry with scope \"mmdet\" in the \"backend_detectors\" registry tree. As a workaround, the current \"backend_detectors\" registry in \"mmdeploy\" is used to build instance. This may cause unexpected failure when running the built modules. Please check whether \"mmdet\" is a correct scope, or whether the registry is initialized.\n",
      "03/28 15:41:48 - mmengine - \u001b[4m\u001b[97mINFO\u001b[0m - Successfully loaded onnxruntime custom ops from d:\\Programs\\miniconda3\\envs\\openmmlab\\lib\\site-packages\\mmdeploy\\lib\\mmdeploy_onnxruntime_ops.dll\n"
     ]
    }
   ],
   "source": [
    "# read deploy_cfg and model_cfg\n",
    "deploy_cfg, model_cfg = load_config(deploy_cfg, model_cfg)\n",
    "\n",
    "# build task and backend model\n",
    "task_processor = build_task_processor(model_cfg, deploy_cfg, device)\n",
    "model = task_processor.build_backend_model(backend_model)\n",
    "\n",
    "# process input image\n",
    "input_shape = get_input_shape(deploy_cfg)"
   ]
  },
  {
   "cell_type": "code",
   "execution_count": 3,
   "metadata": {},
   "outputs": [],
   "source": [
    "def random_colors(N, bright=True):\n",
    "    \"\"\"\n",
    "    Generate random colors.\n",
    "    To get visually distinct colors, generate them in HSV space then\n",
    "    convert to RGB.\n",
    "    \"\"\"\n",
    "    brightness = 1.0 if bright else 0.7\n",
    "    hsv = [(i / N, 1, brightness) for i in range(N)]\n",
    "    colors = list(map(lambda c: colorsys.hsv_to_rgb(*c), hsv))\n",
    "    random.shuffle(colors)\n",
    "    return colors"
   ]
  },
  {
   "cell_type": "code",
   "execution_count": 21,
   "metadata": {},
   "outputs": [
    {
     "name": "stdout",
     "output_type": "stream",
     "text": [
      "time:  0.3906521797180176\n"
     ]
    }
   ],
   "source": [
    "image = \"./test/test6.jpg\"\n",
    "\n",
    "image = Image.open(image)\n",
    "if image.format == \"PNG\":\n",
    "    image = image.convert('RGB')\n",
    "image = np.array(image)\n",
    "\n",
    "model_inputs, _ = task_processor.create_input(image, input_shape)\n",
    "with torch.no_grad():\n",
    "    result = model.test_step(model_inputs)"
   ]
  },
  {
   "cell_type": "code",
   "execution_count": 22,
   "metadata": {},
   "outputs": [],
   "source": [
    "masks = np.array(result[0].pred_instances.masks).astype('int32')\n",
    "labels = np.array(result[0].pred_instances.labels).astype('int32')\n",
    "bboxes = np.array(result[0].pred_instances.bboxes).astype('int32')\n",
    "scores = np.array(result[0].pred_instances.scores).astype('float32')\n",
    "h, w = result[0].ori_shape"
   ]
  },
  {
   "cell_type": "code",
   "execution_count": 26,
   "metadata": {},
   "outputs": [
    {
     "name": "stdout",
     "output_type": "stream",
     "text": [
      "{'0': {'x1': 278, 'x2': 496, 'y1': 229, 'y2': 358, 'm_path': './output/masks-single/m0.png', 'im_path': './output/images-single/im0.png'}, '1': {'x1': 52, 'x2': 163, 'y1': 157, 'y2': 216, 'm_path': './output/masks-single/m1.png', 'im_path': './output/images-single/im1.png'}, '2': {'x1': 124, 'x2': 332, 'y1': 210, 'y2': 302, 'm_path': './output/masks-single/m2.png', 'im_path': './output/images-single/im2.png'}, '3': {'x1': 502, 'x2': 586, 'y1': 163, 'y2': 219, 'm_path': './output/masks-single/m3.png', 'im_path': './output/images-single/im3.png'}, '4': {'x1': 361, 'x2': 437, 'y1': 153, 'y2': 207, 'm_path': './output/masks-single/m4.png', 'im_path': './output/images-single/im4.png'}, '5': {'x1': 147, 'x2': 232, 'y1': 156, 'y2': 212, 'm_path': './output/masks-single/m5.png', 'im_path': './output/images-single/im5.png'}, '6': {'x1': 283, 'x2': 352, 'y1': 109, 'y2': 152, 'm_path': './output/masks-single/m6.png', 'im_path': './output/images-single/im6.png'}, '7': {'x1': 220, 'x2': 286, 'y1': 110, 'y2': 152, 'm_path': './output/masks-single/m7.png', 'im_path': './output/images-single/im7.png'}, '8': {'x1': 294, 'x2': 370, 'y1': 150, 'y2': 206, 'm_path': './output/masks-single/m8.png', 'im_path': './output/images-single/im8.png'}, '9': {'x1': 431, 'x2': 509, 'y1': 156, 'y2': 212, 'm_path': './output/masks-single/m9.png', 'im_path': './output/images-single/im9.png'}, '10': {'x1': 217, 'x2': 299, 'y1': 150, 'y2': 208, 'm_path': './output/masks-single/m10.png', 'im_path': './output/images-single/im10.png'}, '11': {'x1': 347, 'x2': 411, 'y1': 112, 'y2': 151, 'm_path': './output/masks-single/m11.png', 'im_path': './output/images-single/im11.png'}}\n"
     ]
    }
   ],
   "source": [
    "colors = random_colors(masks.shape[0])\n",
    "centers = []\n",
    "res_meta = dict()\n",
    "padding = 2\n",
    "idx = 0\n",
    "for i in range(masks.shape[0]):\n",
    "    \n",
    "    if scores[i] < 0.3 or labels[i] not in [2, 7]:\n",
    "        break\n",
    "\n",
    "    left, top, right, bottom = bboxes[i]\n",
    "    colorized_mask = np.zeros((h+2*padding, w+2*padding, 4))\n",
    "    \n",
    "    # ignore overlapping bboxes\n",
    "    flag = False\n",
    "    _c = [(right+left)//2, (bottom+top)//2]\n",
    "    for c in centers:\n",
    "        if abs(_c[0] - c[0]) <= 5 and abs(_c[1] - c[1]) <= 5:\n",
    "            flag = True\n",
    "            break\n",
    "    if flag:\n",
    "        continue\n",
    "    centers.append(_c)\n",
    "    \n",
    "    # Colorize Inst Mask\n",
    "    alpha = 0.3\n",
    "    color = np.array(list(colors[i]) + [alpha]).reshape((1, 1, 4))\n",
    "    colorized_mask[padding:padding+h, padding:padding+w, :4] = np.where(\n",
    "        np.expand_dims(masks[i] == 1, -1),\n",
    "        color * 255,\n",
    "        colorized_mask[padding:padding+h, padding:padding+w, :4])\n",
    "\n",
    "    # Draw Mask Polygon\n",
    "    contours = find_contours(masks[i], 0.5)[0].astype('int32')\n",
    "\n",
    "    colorized_mask[contours[:, 0], contours[:, 1], :] = np.array([255, 255, 255, 255])\n",
    "    colorized_mask[contours[:, 0], contours[:, 1]+1, :] = np.array([255, 255, 255, 255])\n",
    "    colorized_mask[contours[:, 0], contours[:, 1]-1, :] = np.array([255, 255, 255, 255])\n",
    "    colorized_mask[contours[:, 0]+1, contours[:, 1], :] = np.array([255, 255, 255, 255])\n",
    "    colorized_mask[contours[:, 0]-1, contours[:, 1], :] = np.array([255, 255, 255, 255])\n",
    "    \n",
    "    # Clip and Save\n",
    "    my1, my2, mx1, mx2 = max(0, top-5),min(h, bottom+5),max(0, left-5),min(w, right+5)\n",
    "    m_path = \"./output/masks-single/m{}.png\".format(idx)\n",
    "    im_path = \"./output/images-single/im{}.png\".format(idx)\n",
    "    res_meta[str(idx)] = dict(\n",
    "        x1=mx1, x2=mx2, y1=my1, y2=my2,\n",
    "        m_path=m_path,\n",
    "        im_path=im_path\n",
    "    )\n",
    "\n",
    "    Image.fromarray(\n",
    "        colorized_mask[padding:h+padding, padding:w+padding, :][my1:my2, mx1:mx2, :].astype('uint8'), \n",
    "        mode='RGBA'\n",
    "    ).save(m_path)\n",
    "\n",
    "    Image.fromarray(\n",
    "        np.concatenate([\n",
    "            image[my1:my2, mx1:mx2, :].astype('uint8'),\n",
    "            np.expand_dims(masks[i][my1:my2, mx1:mx2] * 255, axis=-1).astype('uint8')\n",
    "        ], axis=-1), \n",
    "        mode='RGBA'\n",
    "    ).save(im_path)\n",
    "\n",
    "    idx += 1\n",
    "\n",
    "print(res_meta)"
   ]
  }
 ],
 "metadata": {
  "kernelspec": {
   "display_name": "Python 3",
   "language": "python",
   "name": "python3"
  },
  "language_info": {
   "codemirror_mode": {
    "name": "ipython",
    "version": 3
   },
   "file_extension": ".py",
   "mimetype": "text/x-python",
   "name": "python",
   "nbconvert_exporter": "python",
   "pygments_lexer": "ipython3",
   "version": "3.9.16"
  },
  "orig_nbformat": 4
 },
 "nbformat": 4,
 "nbformat_minor": 2
}
